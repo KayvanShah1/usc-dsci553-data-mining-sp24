{
  "nbformat": 4,
  "nbformat_minor": 0,
  "metadata": {
    "colab": {
      "provenance": [],
      "mount_file_id": "1IhIrwMPHq0YqmsPKEECjcP9azgjwA302",
      "authorship_tag": "ABX9TyP/hTQ7AMd7sZZxGPbOvUZe",
      "include_colab_link": true
    },
    "kernelspec": {
      "name": "python3",
      "display_name": "Python 3"
    },
    "language_info": {
      "name": "python"
    }
  },
  "cells": [
    {
      "cell_type": "markdown",
      "metadata": {
        "id": "view-in-github",
        "colab_type": "text"
      },
      "source": [
        "<a href=\"https://colab.research.google.com/github/KayvanShah1/usc-dsci553-data-mining-sp24/blob/main/assignment-4/notebooks/HW4.ipynb\" target=\"_parent\"><img src=\"https://colab.research.google.com/assets/colab-badge.svg\" alt=\"Open In Colab\"/></a>"
      ]
    },
    {
      "cell_type": "markdown",
      "source": [
        "# Installation & Setup"
      ],
      "metadata": {
        "id": "9MJKfBDxoYdH"
      }
    },
    {
      "cell_type": "code",
      "execution_count": null,
      "metadata": {
        "colab": {
          "base_uri": "https://localhost:8080/"
        },
        "id": "dqkeCghXi6lK",
        "outputId": "bc0135f9-548c-42e5-8768-36bbc86fd533"
      },
      "outputs": [
        {
          "output_type": "stream",
          "name": "stdout",
          "text": [
            "Collecting pyspark\n",
            "  Downloading pyspark-3.5.1.tar.gz (317.0 MB)\n",
            "\u001b[2K     \u001b[90m━━━━━━━━━━━━━━━━━━━━━━━━━━━━━━━━━━━━━━━━\u001b[0m \u001b[32m317.0/317.0 MB\u001b[0m \u001b[31m1.0 MB/s\u001b[0m eta \u001b[36m0:00:00\u001b[0m\n",
            "\u001b[?25h  Preparing metadata (setup.py) ... \u001b[?25l\u001b[?25hdone\n",
            "Collecting graphframes\n",
            "  Downloading graphframes-0.6-py2.py3-none-any.whl (18 kB)\n",
            "Collecting ipython-autotime\n",
            "  Downloading ipython_autotime-0.3.2-py2.py3-none-any.whl (7.0 kB)\n",
            "Requirement already satisfied: py4j==0.10.9.7 in /usr/local/lib/python3.10/dist-packages (from pyspark) (0.10.9.7)\n",
            "Requirement already satisfied: numpy in /usr/local/lib/python3.10/dist-packages (from graphframes) (1.25.2)\n",
            "Collecting nose (from graphframes)\n",
            "  Downloading nose-1.3.7-py3-none-any.whl (154 kB)\n",
            "\u001b[2K     \u001b[90m━━━━━━━━━━━━━━━━━━━━━━━━━━━━━━━━━━━━━━━━\u001b[0m \u001b[32m154.7/154.7 kB\u001b[0m \u001b[31m16.2 MB/s\u001b[0m eta \u001b[36m0:00:00\u001b[0m\n",
            "\u001b[?25hRequirement already satisfied: ipython in /usr/local/lib/python3.10/dist-packages (from ipython-autotime) (7.34.0)\n",
            "Requirement already satisfied: setuptools>=18.5 in /usr/local/lib/python3.10/dist-packages (from ipython->ipython-autotime) (67.7.2)\n",
            "Collecting jedi>=0.16 (from ipython->ipython-autotime)\n",
            "  Downloading jedi-0.19.1-py2.py3-none-any.whl (1.6 MB)\n",
            "\u001b[2K     \u001b[90m━━━━━━━━━━━━━━━━━━━━━━━━━━━━━━━━━━━━━━━━\u001b[0m \u001b[32m1.6/1.6 MB\u001b[0m \u001b[31m26.5 MB/s\u001b[0m eta \u001b[36m0:00:00\u001b[0m\n",
            "\u001b[?25hRequirement already satisfied: decorator in /usr/local/lib/python3.10/dist-packages (from ipython->ipython-autotime) (4.4.2)\n",
            "Requirement already satisfied: pickleshare in /usr/local/lib/python3.10/dist-packages (from ipython->ipython-autotime) (0.7.5)\n",
            "Requirement already satisfied: traitlets>=4.2 in /usr/local/lib/python3.10/dist-packages (from ipython->ipython-autotime) (5.7.1)\n",
            "Requirement already satisfied: prompt-toolkit!=3.0.0,!=3.0.1,<3.1.0,>=2.0.0 in /usr/local/lib/python3.10/dist-packages (from ipython->ipython-autotime) (3.0.43)\n",
            "Requirement already satisfied: pygments in /usr/local/lib/python3.10/dist-packages (from ipython->ipython-autotime) (2.16.1)\n",
            "Requirement already satisfied: backcall in /usr/local/lib/python3.10/dist-packages (from ipython->ipython-autotime) (0.2.0)\n",
            "Requirement already satisfied: matplotlib-inline in /usr/local/lib/python3.10/dist-packages (from ipython->ipython-autotime) (0.1.6)\n",
            "Requirement already satisfied: pexpect>4.3 in /usr/local/lib/python3.10/dist-packages (from ipython->ipython-autotime) (4.9.0)\n",
            "Requirement already satisfied: parso<0.9.0,>=0.8.3 in /usr/local/lib/python3.10/dist-packages (from jedi>=0.16->ipython->ipython-autotime) (0.8.3)\n",
            "Requirement already satisfied: ptyprocess>=0.5 in /usr/local/lib/python3.10/dist-packages (from pexpect>4.3->ipython->ipython-autotime) (0.7.0)\n",
            "Requirement already satisfied: wcwidth in /usr/local/lib/python3.10/dist-packages (from prompt-toolkit!=3.0.0,!=3.0.1,<3.1.0,>=2.0.0->ipython->ipython-autotime) (0.2.13)\n",
            "Building wheels for collected packages: pyspark\n",
            "  Building wheel for pyspark (setup.py) ... \u001b[?25l\u001b[?25hdone\n",
            "  Created wheel for pyspark: filename=pyspark-3.5.1-py2.py3-none-any.whl size=317488491 sha256=44e676ff0b7aa19efb251654ebe916f56adabb0231e291f87915455fbc11c924\n",
            "  Stored in directory: /root/.cache/pip/wheels/80/1d/60/2c256ed38dddce2fdd93be545214a63e02fbd8d74fb0b7f3a6\n",
            "Successfully built pyspark\n",
            "Installing collected packages: nose, pyspark, jedi, graphframes, ipython-autotime\n",
            "Successfully installed graphframes-0.6 ipython-autotime-0.3.2 jedi-0.19.1 nose-1.3.7 pyspark-3.5.1\n"
          ]
        }
      ],
      "source": [
        "!pip install pyspark graphframes ipython-autotime"
      ]
    },
    {
      "cell_type": "code",
      "source": [
        "%%bash\n",
        "java --version"
      ],
      "metadata": {
        "colab": {
          "base_uri": "https://localhost:8080/"
        },
        "id": "4YELlCfGoiSB",
        "outputId": "897d8150-f62e-46c7-e12d-c2a038d849a3"
      },
      "execution_count": null,
      "outputs": [
        {
          "output_type": "stream",
          "name": "stdout",
          "text": [
            "openjdk 11.0.22 2024-01-16\n",
            "OpenJDK Runtime Environment (build 11.0.22+7-post-Ubuntu-0ubuntu222.04.1)\n",
            "OpenJDK 64-Bit Server VM (build 11.0.22+7-post-Ubuntu-0ubuntu222.04.1, mixed mode, sharing)\n"
          ]
        }
      ]
    },
    {
      "cell_type": "code",
      "source": [
        "!pyspark --version"
      ],
      "metadata": {
        "colab": {
          "base_uri": "https://localhost:8080/"
        },
        "id": "V6oys_KqpcYc",
        "outputId": "53657af8-35b7-456e-9440-ed387ffc2387"
      },
      "execution_count": null,
      "outputs": [
        {
          "output_type": "stream",
          "name": "stdout",
          "text": [
            "Welcome to\n",
            "      ____              __\n",
            "     / __/__  ___ _____/ /__\n",
            "    _\\ \\/ _ \\/ _ `/ __/  '_/\n",
            "   /___/ .__/\\_,_/_/ /_/\\_\\   version 3.5.1\n",
            "      /_/\n",
            "                        \n",
            "Using Scala version 2.12.18, OpenJDK 64-Bit Server VM, 11.0.22\n",
            "Branch HEAD\n",
            "Compiled by user heartsavior on 2024-02-15T11:24:58Z\n",
            "Revision fd86f85e181fc2dc0f50a096855acf83a6cc5d9c\n",
            "Url https://github.com/apache/spark\n",
            "Type --help for more information.\n"
          ]
        }
      ]
    },
    {
      "cell_type": "markdown",
      "source": [
        "# Imports"
      ],
      "metadata": {
        "id": "54dwHJVqomp8"
      }
    },
    {
      "cell_type": "code",
      "source": [
        "import os\n",
        "import sys\n",
        "import json\n",
        "import pandas as pd\n",
        "from itertools import combinations\n",
        "import math\n",
        "import statistics\n",
        "from pyspark import SparkContext\n",
        "import numpy as np\n",
        "\n",
        "from pprint import pprint\n",
        "\n",
        "%load_ext autotime"
      ],
      "metadata": {
        "id": "LX5b8bFVolSC",
        "colab": {
          "base_uri": "https://localhost:8080/"
        },
        "outputId": "c5a4f876-ef05-45e9-c460-fd1557989cba"
      },
      "execution_count": null,
      "outputs": [
        {
          "output_type": "stream",
          "name": "stdout",
          "text": [
            "time: 350 µs (started: 2024-03-28 05:39:50 +00:00)\n"
          ]
        }
      ]
    },
    {
      "cell_type": "code",
      "source": [
        "!spark-shell --packages graphframes:graphframes:0.8.3-spark3.5-s_2.12"
      ],
      "metadata": {
        "colab": {
          "base_uri": "https://localhost:8080/"
        },
        "id": "J7Q7cCX5wktc",
        "outputId": "777fc98f-9229-438d-a83d-41a1efa5a806"
      },
      "execution_count": null,
      "outputs": [
        {
          "output_type": "stream",
          "name": "stdout",
          "text": [
            ":: loading settings :: url = jar:file:/usr/local/lib/python3.10/dist-packages/pyspark/jars/ivy-2.5.1.jar!/org/apache/ivy/core/settings/ivysettings.xml\n",
            "Ivy Default Cache set to: /root/.ivy2/cache\n",
            "The jars for the packages stored in: /root/.ivy2/jars\n",
            "graphframes#graphframes added as a dependency\n",
            ":: resolving dependencies :: org.apache.spark#spark-submit-parent-118b952b-7c11-496f-a207-180eb284b4ad;1.0\n",
            "\tconfs: [default]\n",
            "\tfound graphframes#graphframes;0.8.3-spark3.5-s_2.12 in spark-packages\n",
            "\tfound org.slf4j#slf4j-api;1.7.16 in central\n",
            "downloading https://repos.spark-packages.org/graphframes/graphframes/0.8.3-spark3.5-s_2.12/graphframes-0.8.3-spark3.5-s_2.12.jar ...\n",
            "\t[SUCCESSFUL ] graphframes#graphframes;0.8.3-spark3.5-s_2.12!graphframes.jar (74ms)\n",
            "downloading https://repo1.maven.org/maven2/org/slf4j/slf4j-api/1.7.16/slf4j-api-1.7.16.jar ...\n",
            "\t[SUCCESSFUL ] org.slf4j#slf4j-api;1.7.16!slf4j-api.jar (45ms)\n",
            ":: resolution report :: resolve 1541ms :: artifacts dl 125ms\n",
            "\t:: modules in use:\n",
            "\tgraphframes#graphframes;0.8.3-spark3.5-s_2.12 from spark-packages in [default]\n",
            "\torg.slf4j#slf4j-api;1.7.16 from central in [default]\n",
            "\t---------------------------------------------------------------------\n",
            "\t|                  |            modules            ||   artifacts   |\n",
            "\t|       conf       | number| search|dwnlded|evicted|| number|dwnlded|\n",
            "\t---------------------------------------------------------------------\n",
            "\t|      default     |   2   |   2   |   2   |   0   ||   2   |   2   |\n",
            "\t---------------------------------------------------------------------\n",
            ":: retrieving :: org.apache.spark#spark-submit-parent-118b952b-7c11-496f-a207-180eb284b4ad\n",
            "\tconfs: [default]\n",
            "\t2 artifacts copied, 0 already retrieved (280kB/12ms)\n",
            "24/03/28 05:39:59 WARN NativeCodeLoader: Unable to load native-hadoop library for your platform... using builtin-java classes where applicable\n",
            "Setting default log level to \"WARN\".\n",
            "To adjust logging level use sc.setLogLevel(newLevel). For SparkR, use setLogLevel(newLevel).\n",
            "Spark context Web UI available at http://9f1d9cc2f41f:4040\n",
            "Spark context available as 'sc' (master = local[*], app id = local-1711604412975).\n",
            "Spark session available as 'spark'.\n",
            "Welcome to\n",
            "      ____              __\n",
            "     / __/__  ___ _____/ /__\n",
            "    _\\ \\/ _ \\/ _ `/ __/  '_/\n",
            "   /___/ .__/\\_,_/_/ /_/\\_\\   version 3.5.1\n",
            "      /_/\n",
            "         \n",
            "Using Scala version 2.12.18 (OpenJDK 64-Bit Server VM, Java 11.0.22)\n",
            "Type in expressions to have them evaluated.\n",
            "Type :help for more information.\n",
            "\u001b[35m\n",
            "scala> \u001b[0mtime: 30.1 s (started: 2024-03-28 05:39:53 +00:00)\n"
          ]
        }
      ]
    },
    {
      "cell_type": "markdown",
      "source": [
        "# Configuration"
      ],
      "metadata": {
        "id": "BiUtw7zCfJv7"
      }
    },
    {
      "cell_type": "code",
      "source": [
        "os.chdir(\"/content/drive/MyDrive/Colab Notebooks/DSCI553/hw4\")\n",
        "\n",
        "\n",
        "class Path:\n",
        "    curren_dir = os.getcwd()\n",
        "    input_csv_file = os.path.join(curren_dir, \"ub_sample_data.csv\")\n",
        "\n",
        "    output_dir = os.path.join(curren_dir, \"output\")\n",
        "    os.makedirs(output_dir, exist_ok=True)\n",
        "\n",
        "    task1_output = os.path.join(output_dir, \"task1_op.txt\")\n",
        "    task2_output = os.path.join(output_dir, \"task2_op.txt\")"
      ],
      "metadata": {
        "colab": {
          "base_uri": "https://localhost:8080/"
        },
        "id": "kQD5wKfSfINH",
        "outputId": "4ada8b55-34fb-4157-a75f-d1cee7679bf4"
      },
      "execution_count": null,
      "outputs": [
        {
          "output_type": "stream",
          "name": "stdout",
          "text": [
            "time: 426 ms (started: 2024-03-28 05:40:27 +00:00)\n"
          ]
        }
      ]
    },
    {
      "cell_type": "markdown",
      "source": [
        "# Task 1"
      ],
      "metadata": {
        "id": "rR43__89aohN"
      }
    },
    {
      "cell_type": "code",
      "source": [
        "# %%writefile task1.py\n",
        "import time\n",
        "import os\n",
        "import sys\n",
        "\n",
        "from pyspark import SparkConf, SparkContext\n",
        "from pyspark.sql import SparkSession, DataFrame\n",
        "from graphframes import GraphFrame\n",
        "from itertools import combinations\n",
        "from pyspark.sql.functions import udf, col, size, array_intersect\n",
        "from pyspark.sql import functions as F\n",
        "from pyspark.sql.types import ArrayType, StructType, StructField, StringType\n",
        "\n",
        "\n",
        "os.environ[\"PYSPARK_SUBMIT_ARGS\"] = \"--packages graphframes:graphframes:0.8.3-spark3.5-s_2.12 pyspark-shell\"\n",
        "\n",
        "\n",
        "def read_csv(spark: SparkSession, file_path: str):\n",
        "    \"\"\"\n",
        "    Read CSV file into DataFrame\n",
        "    \"\"\"\n",
        "    df = spark.read.csv(file_path, header=True, inferSchema=True)\n",
        "    return df\n",
        "\n",
        "\n",
        "def construct_graph(spark: SparkSession, df, filter_threshold: int):\n",
        "    \"\"\"\n",
        "    Function to construct the social network graph.\n",
        "    \"\"\"\n",
        "    # Create user to business map\n",
        "    user2bus = (\n",
        "        df.groupBy(\"user_id\")\n",
        "        .agg({\"business_id\": \"collect_set\"})\n",
        "        .withColumnRenamed(\"collect_set(business_id)\", \"business_set\")\n",
        "    )\n",
        "\n",
        "    # Create edge dataframe\n",
        "    edges = (\n",
        "        user2bus.alias(\"u1\")\n",
        "        .join(user2bus.alias(\"u2\"), col(\"u1.user_id\") != col(\"u2.user_id\"))\n",
        "        # Filter edges by threshold\n",
        "        .where(size(array_intersect(col(\"u1.business_set\"), col(\"u2.business_set\"))) >= filter_threshold)\n",
        "        .select(col(\"u1.user_id\").alias(\"src\"), col(\"u2.user_id\").alias(\"dst\"))\n",
        "        .distinct()\n",
        "    )\n",
        "\n",
        "    # Create nodes DataFrame\n",
        "    nodes_src = edges.select(col(\"src\").alias(\"id\"))\n",
        "    nodes_dst = edges.select(col(\"dst\").alias(\"id\"))\n",
        "    nodes = nodes_src.union(nodes_dst).distinct()\n",
        "\n",
        "    # Construct GraphFrame\n",
        "    graph = GraphFrame(nodes, edges)\n",
        "\n",
        "    return graph\n",
        "\n",
        "\n",
        "def detect_communities(graph):\n",
        "    \"\"\"\n",
        "    Function to detect communities using Label Propagation Algorithm.\n",
        "    \"\"\"\n",
        "    # Use the Label Propagation Algorithm to detect communities\n",
        "    communities = graph.labelPropagation(maxIter=5)\n",
        "    return communities\n",
        "\n",
        "\n",
        "def save_communities(communities, output_file_path):\n",
        "    \"\"\"\n",
        "    Function to save communities to a txt file.\n",
        "    \"\"\"\n",
        "    # Sort communities by size and then by lexicographical order\n",
        "    sorted_communities = (\n",
        "        communities\n",
        "        .rdd\n",
        "        .map(lambda x: (x[1], x[0]))\n",
        "        .groupByKey()\n",
        "        .map(lambda x: sorted(list(x[1])))\n",
        "        .sortBy(lambda x: (len(x), x))\n",
        "        .collect()\n",
        "    )\n",
        "\n",
        "    # Save communities to the output file\n",
        "    with open(output_file_path, 'w') as file:\n",
        "        for community in sorted_communities:\n",
        "            file.write(\", \".join(community) + \"\\n\")\n",
        "\n",
        "\n",
        "def task1(filter_threshold: int, input_file_path: str, community_output_file_path: str):\n",
        "    # Initialize Spark\n",
        "    conf = SparkConf().setAppName(\"Task 1\").set(\"spark.jars.packages\", \"graphframes:graphframes:0.8.3-spark3.5-s_2.12\")\n",
        "    sc = SparkContext(conf=conf).getOrCreate()\n",
        "    spark = SparkSession(sparkContext=sc)\n",
        "    spark.sparkContext.setLogLevel(\"ERROR\")\n",
        "\n",
        "    try:\n",
        "        start_time = time.time()\n",
        "\n",
        "        df = read_csv(spark, input_file_path)\n",
        "\n",
        "        # Construct graph\n",
        "        graph = construct_graph(spark, df, filter_threshold)\n",
        "\n",
        "        # Detect Communities\n",
        "        communities = detect_communities(graph)\n",
        "        # communities.show()\n",
        "\n",
        "        # Save the generated communities data\n",
        "        save_communities(communities, community_output_file_path)\n",
        "\n",
        "        execution_time = time.time() - start_time\n",
        "        print(f\"Duration: {execution_time}\\n\")\n",
        "\n",
        "    finally:\n",
        "        # Stop Spark\n",
        "        spark.stop()\n",
        "\n",
        "\n",
        "# if __name__ == \"__main__\":\n",
        "#     # Check if the correct number of command-line arguments are provided\n",
        "#     if len(sys.argv) != 4:\n",
        "#         print(\n",
        "#             \"Usage: spark-submit --packages graphframes:graphframes:0.8.2-spark3.1-s_2.12 task1.py <filter threshold>\"\n",
        "#             \" <input file path> <community output file path>\"\n",
        "#         )\n",
        "#         sys.exit(1)\n",
        "\n",
        "#     # Parse command-line arguments\n",
        "#     filter_threshold = int(sys.argv[1])\n",
        "#     input_file_path = sys.argv[2]\n",
        "#     community_output_file_path = sys.argv[3]\n",
        "\n",
        "#     # Call task1 function\n",
        "#     task1(filter_threshold, input_file_path, community_output_file_path)\n",
        "\n",
        "task1(2, Path.input_csv_file, Path.task1_output)"
      ],
      "metadata": {
        "colab": {
          "base_uri": "https://localhost:8080/"
        },
        "id": "EB-Fj2STaqqU",
        "outputId": "e642ec5a-8875-4235-fdba-cd5c62f5b375"
      },
      "execution_count": null,
      "outputs": [
        {
          "output_type": "stream",
          "name": "stdout",
          "text": [
            "Duration: 114.79595375061035\n",
            "\n",
            "time: 1min 56s (started: 2024-03-28 06:10:58 +00:00)\n"
          ]
        }
      ]
    },
    {
      "cell_type": "code",
      "source": [
        "# !spark-submit --packages graphframes:graphframes:0.8.3-spark3.5-s_2.12 task1.py 2 ub_sample_data.csv t1.txt\n",
        "!cat output/task1_op.txt"
      ],
      "metadata": {
        "colab": {
          "base_uri": "https://localhost:8080/"
        },
        "id": "GGou5dULQ4rv",
        "outputId": "e424e315-7865-482f-994f-fbca112acf7e"
      },
      "execution_count": null,
      "outputs": [
        {
          "output_type": "stream",
          "name": "stdout",
          "text": [
            "1UR-fzasIATn6hoYZein4g\n",
            "3Vd_ATdvvuVVgn_YCpz8fw\n",
            "3xESvNr3bkJikpjLRqcBcA\n",
            "5AlOIOMTzNhU1tSOtQ6mDw\n",
            "6pNftAvuCGpkaXBgL-4QdQ\n",
            "8EPHywVzuKnevp2zAzbMug\n",
            "Cf0chERnfd06ltnN45xLNQ\n",
            "Ksp1e9Dw0Jcog_ZBD3-45g\n",
            "KtNGMeHmCpagrTTqcfBcgA\n",
            "PTcKYk_qU-WzbQjraE3TgQ\n",
            "RqTl3f3ZIhrjILKJFCEKDw\n",
            "_m1ot2zZetDgjerAD2Sidg\n",
            "abwO4VF4JcVYQ7CURAwsyw\n",
            "bg9FRc71Daub48GmIKfX_A\n",
            "fccMIyBd6ZhFUVAhvSqsrw\n",
            "kteNzDbDmsatpOC0xssmew\n",
            "lFFIpfkox55FQ-wZD6BBVw\n",
            "lL-wNa0TKK6LXrlcVmjYrQ\n",
            "nrUQRMx6K-KJnoC15rMO2g\n",
            "s-QuErK1oRlAzT5qnO6FOQ\n",
            "vENR70IrUsDNTDebbuxyQA\n",
            "4hiLotPELiIRugUtWC9L6A, Xwnf20FKuikiHcSpcEbpKQ\n",
            "5AKt52TW50eWHk9Ia03uzg, swx0FJkZWb6nVP58ZsMl7w\n",
            "9W73B44Iw8WslrTNB2CdCg, LZoZfNY8HNlIqJlNqeYVmw\n",
            "JDEhGFIPAyIMkfHD0G13UA, bjFG1IviPp_9Ae9WwAvHqg\n",
            "52MlnjkvSLLqKKSRrbrH0w, GqJRlbga27rUpolN-SP9Ig, fkMiipV4j_DG5nSoBnZvbg\n",
            "-ki-qIZHP4zZ2D49-b8ZzA, 3gq1d-Qiyajk5TWq9jNytA, 8pLFYhWKzILEIYSl5qE-3w, Ahl7wBbav9ZoBrvwi3vyew, P3B7FfBpXERa-KdxwIGkHA, yvMQhKw2_dq-bgf3lOCjEg\n",
            "0o8HUzggoNKay9-ZMj3HqQ, 3egcdazws_x1wW35jgXfNw, QEkgYrrUEPJJbiUCLqf0fg, aNmrSw98PhdvZkLgxP2PWg, g8OozJjZwliRYdAZOTILPw, nvHJFFr5R74ug5NOh2VDPg, pJP3wahfq3WE7E9VmD3-yw\n",
            "0QREkWHGO8-Z_70qx1BIWw, FQzMahuwloL7r44Gl_lNNA, KHjroLTG6Ah8LyItTyB2yw, _qkI_vYa8ZtFCxMNTEyxjQ, deL6e_z9xqZTIODKqnvRXQ, kKTcYPz47sCDH1_ylnE4ZQ, pwQ8E-hbDUJe3qtKt_IBBg, tAcY4S3vIuNlAoRlCcz5VA, uO1w3qNo21c1bVHHFTYW0w\n",
            "0gZ8E5tBWTEtGEZDuTzhzw, 0jxNwWF8DUEFuoD4xMGpgQ, 2hii37dkKL4POcu6vh_6EA, 2otXDEiKDqUbox4BS6uK0g, 46TNf-5T5EcNFRJPYv_nrw, 4ZQq0ozRs-gXSz1z55iIDw, 54zqyneshZvyWymZLE6mJw, 5BpOyawXDHN1_YKd4i9QbQ, 5JVY32_bmTBfIGpCCsnAfw, 6KUA3-IfHoAhQ3FL2djQoQ, 7kfJk_NtOslC9jPk2Koz3g, 8nSAbI-nUi0GavThHTEkJQ, 9LUjipZxdqAVkGR5jg1AWQ, AH3OZj4glpss6xXpOEHF7Q, AKMRMIIPSHzp4KD76Z9Tgw, D5YwD8rMx3f8gUFDp4JeSA, DkvaAV7F4Y_rw040k0XGvQ, E24K96prdwpGXFPk-dC9rA, EG6qatWgJ2WTJnzBCCH_Dg, FTsRfaVbDUB6Sc6pL-J80w, Gb9Y_f1xslY1mDvvHBXaLg, Gr-MqCunME2K_KmsAwjpTA, Gua5GdTlTWJpovtG7Hdtyg, HLY9oDcVBH9D25lU4X_V5Q, IZXnSMdOkVdFH-mw6zQBbA, JCBBmqUxWeEX8Y0tmYgD8g, K5mS2ORCuVgluYW9-hguzg, L8cvMZLWmM4qWTl9SkxJ8g, LKP0Yq9T7Ss6oiDZnVtQwQ, LPWSfa9mGf59P7KZg_eOdA, LoLmkPhGZr-2FlWSUCE-Kg, NjNJ1JLnMlOfnDI6Oz6Qew, Oixv0VgElz8pxQFp2lkdJg, OueXAik2P-eUcXbd1qGXKw, QvLg2kxqHHahxxOlHlEIZw, R12GCq7XczBpP99KzenLAQ, RH9T3raqe3z49-Qxx2U9xQ, RUa2_2yuSwJtU7sTXz-omA, Si3aMsOVGSVlsc54iuiPwA, Tjv5bBtJ-Z_CLiY-rheG2g, UBXXxlTF-NqJEEN739QzKg, UnlrkIgodDiNitZidgStbQ, UyXqGEKod-veD6m6Hq0EDw, VE-MQT95EqQePD4zQ8kVwQ, WWWWYNDG16P4Pha80srB2g, WyMuUvqsJN1-s6LsNIeAlQ, XnuuGtEl7E8syck0QhjO3w, XrRLaAeV20MRwdSIGjj2SQ, YQ7jD5Wl-Y6mtdUvfCfOIQ, Ynh5YbifcFvaJRJksiF81A, Z9a1tDT8fVI75qXYwNhPpw, ZXwvMYWNfa0WoZ2mzU1QOA, _7PfR6Tvh2xTbiVi1GELoQ, _fpHwIiEJOp79qED9YSE7Q, a48HhwcmjFLApZhiax41IA, a5IiFbcKjqAKRoQlcA5bnw, bP1IhlkLx_8xv0B5l6TqlQ, coKnuxLznH0FHb34m4ZLCw, cyuDrrG5eEK-TZI867MUPA, d5WLqmTMvmL7-RmUDVKqqQ, ejA3ISqJ0-XltI0IFwb16g, hZfzVrhsCQ9JDAb2jYoJNQ, hrThx_nXKfdElLbpF-8V3g, iCXJ3gO2GhopYHmfmnktfw, iWoCUArqFmXvTBM2jsMs5g, jjogE_kPPMjxKvDEFlct6w, lCfvxcfqtWvFr7RF_UedQA, m4fBjPA4SSIzQaNtr45Uow, mm9WYrFhiNqvHCyhQKw3Mg, nOr3_aq60yivqgcso_iDMw, ntlvfPzc8eglqvk92iDIAw, o-t-i7nbT5N_cmkCXs5oDQ, o5PjjS1IxZ8rvBKSFZeM7Q, oPVY6-CJt2EI335lKWwxmg, oS2O8YQ31HTSTQgPQKc7Cg, oegRUjhGbP62M18WyAL6pQ, p0hlNNwzFxKxt7feNvbN7Q, pDNeS1nbkKS7mJmhRQJPig, qIIWAMJ_LwlJi0fntUpsjg, qRYwodYPMMkl7QKnpmc39Q, qZuKmM78JxB15KEb_ukj3Q, r7GHYNcXMwCxd5SIHNBsAQ, rdysF0ymVkMX82Bu_8x3nA, s7eI04en5to4udzesyRNPg, sAbHdUgrjMOiQQLNh0H0YQ, sKVIL6VYjuAaO-hiS2rzTw, surYJl8z-WOxqroyYgvmYg, tR12WeWha2DGhUrKcvTttQ, tWVlSt-66fl6bk9_5UzltQ, t_9U_94WuP_HUSEXnBgL1A, tcWnoX_IfuDmlDl6o6y3_g, uwRd0buZlfjPWbmNK7kGhQ, veLWPGA-1MMtcRNDYWm-BA, wXdrUQg4-VkSZH1FG4Byzw, y5rqDe6uO06WKZ26-Pla8g, zFCuveEe6M-ijY1iy23IJg, zc3saQQEeTBQbk3GeqtxvA, zgV0ZroIF956gw4cul8MHA\n",
            "0BoO48jZw2kjJjwgwIjbLw, 0FMte0z-repSVWSJ_BaQTg, 0FVcoJko1kfZCrJRfssfIA, 0Zswwlz4NzUJoG-skyWzIw, 0k0PQctiUZWdtdBdDSp2_w, 0l3x4EgoWVYdla3CPpAKag, 1J2YLZC0rAZ09vJeZ8UhFw, 1_aWNbm6gEgV_Lme_lZ3NQ, 1jIlvLV10nOhwqcvWNQnQw, 2quguRdKBzul3GpRi9e1mA, 3NUBrMWfwn8MZm6LYBjEcg, 3YK7REruC4FwDTOj8zUYcQ, 3kKfcfYKpNjQAOhhB5l7Vw, 3vGiPNH4yCAj88-kfdvbjw, 4PQhC-zTQ4ACEN0-r39JuQ, 4YyVKh2S5XlxQi9RtNmVew, 4pc_EyanaC3ARh0MZZyouA, 53-0CIUo-pd5ysfvHXb2yQ, 55JSQKPBoZP9GHf6squqIA, 5QWtZdJlAxO_Ye4t6YB1jQ, 5W_LMSthT2jsQOqKFU6IKQ, 6-BE7PjmmHDKQNzsepwImw, 697iJkhX1mkVF9RNhn114Q, 6BLLyZDiR0pb-h2E5qvLXw, 6nSGen1iDqt5r97yxEFULA, 6oXoXL5yDWc4jhkmCXJUuw, 6x3aIb8SLZcOFcHEcWBLog, 7RCz4Ln_FaTvNrdwe251Dg, 7Vfy39A_totC-w70qZi0MA, 7abfd_lfGu0KU1JJJdjV3w, 7hElQBiE_x2HZk6yJMVgNg, 8RcEwGrFIgkt9WQ35E6SnQ, 8j64RTecDqw8hdJuSqJYCw, 97j2wkFU46OOgm6ErRAb7w, 9eehtcnYhZAHug1uMI6iRQ, A-tUZUgiMNdHeO171rRQdg, A08xF_ykmsWQV0ypYA8wkA, A2EBRLCLBI7TdBoi4rhY6g, A8TRpa--43-mbig73xfhrA, AuvaQaRHBowFaFtoEMqkVg, B0ENvYKQdNNr1Izd2r-BAA, B5mpfVCviyUl9Bsdef5jUQ, BDjiEmXljD2ZHT61Iv9rrQ, BLaAsCSh6WI4pSnb1N3IYw, BytRWk8X1OelSgwwfXd8Aw, CTaZ3ebFGQMHaLZhnO2EuA, CXTEm80fN8V2k4FuD5ub1g, CebjpVd3PsofCgotWp60pg, D9m4JQ7bM-or5sw54L5Dhg, DZMIRjbNLmoX34oU2pf68Q, DkLSyxogCcJXY5DbTZ-f2A, ELfzWgdf64VBLi5z1ECItw, EMZFaRIqAzSftAYXgdLqkg, EiP1OFgs-XGcKZux0OKWIA, EiwxlbR8fb68lMgEXhcWKA, Gjv3ERasrRJqtEPa7ZMUSw, GtMg9Ooc2ykPD0OV5P3pzw, HEK5DElxXE8D9GC8d68eJA, HmYj8wXXzzmc80DIenufuw, HpivLAodxcQlmncyc6swXg, HzEtbh5KYzfeW_MTVnGCEA, ILe3tzgnbGSaZfpArtJdjA, IXD-jdycm7m34b_Nliy82g, IkjwRXu3R-O09HMh-rSmFQ, Iu55D7RAAW8TACA3lN0w8Q, JFeQMdvX9H6CPtrDxPF0Yw, JLv2Dmfj73-I0d9N41tz1A, JnGtgOPpkjyWOvWM0SYEXg, KBLW4RujERLotEYjU5LKew, KLB3wIYUwKDPMbijIE92vg, KOWl_ZhqhYqY33-CbaJubw, KgFOJnWXxVuz0b-xfo6jjw, KtE55izPs1ubJn3ofF2IrA, LcCRMIDz1JgshpPGYfLDcA, M3vHHg7nYbR1uZexEbxd_Q, MDeA-Gx8NScCyAdziq7IeA, MbC0xPzIdGkFMCpPb8yWDA, MpM-FBMnxxctnG3AQAjPhA, NWptkEoaBCDoMRUlisMu6Q, Nhk0jTP2gkU12G4LHJVR3A, NsHeN5dKRmYfJTmTxMITmQ, OXuL4nKwbBUw6lIH5EUngA, Oz8Bp1NY-Szz4lvSbVsV4Q, PE8s8ACYABRNANI-T_WmzA, PHQ1uBpt3MLlDl3jzEs4QA, PRR_QZhRCkxa-hb-fmnA9Q, PrwnAL82LL4Ewt_wJpHWCA, QRsuZ_LqrRU65dTs5CL4Lw, QqRSNjWhfUFv1ZU0OnYKZQ, R4l3ONHzGBakKKNo4TN9iQ, RwWbL1fg0xclj859glImxg, S9dDf0JqSMAvusp5f-9bGw, SaSXRzjHx3SMTNnW90PetA, SdXxLZQQnQNUEL1rGMOQ6w, ShE-cXiI7VwJ8GMixw6JOw, SobGWhM_IAb4Kj_9HEpKsQ, T88y73qdOSutuvzLlhWtqQ, TBEiWGQoVXCq5sYuOzeBkw, TjXqTqYOXAs8VKo_otj3lw, TjsBbWAfwxWEXPxaLNv5SQ, Tk_FWXueutKii3f9yJFsdw, Tnn_sY9W24ho4Kw9uwuK6A, U3JxaX3TySooO7JHndcnHQ, UAB1Zyg6Q0oEpXeYRf5K_g, UAO-fiRQl0Why09SjUaMjw, UDFIZXP0kOb2xKoYToTS6w, UUVbV8XmTzNksBOPaiO3pA, UrfdzamoBt0WW9Ifqy7RIw, VFt7qSSQ_7inZgrrITMNYQ, VlcasgkqiTuPi-nVT7rEtw, WAb5zPq711dVH7GzxZpLNw, WFYg4CL8ZIeeQ-N9m31EOA, WHmabbfgdSW-JrOU9ePMrA, WTVUpLgw2i0ZKeHyrB6Hcg, Wc5L6iuvSNF5WGBlqIO8nw, WlWgl1aWl-8wGZYUncV-2A, WoKCLSctS7G2547xKcED-Q, X86vXWcxSzuCfMJyOnx1UQ, XDq_Yyg_d8tMZfxL409dVw, XPAJ2KHkCwBA0vafF-2Zcg, XUEwSGOGARxW-3gPiGJKUg, YJLlvBPtvB8iJg8_WKxVzQ, YhIFyn5Z6xTvZT7FHC_70w, YttDgOC9AlM4HcAlDsbB2A, Zmp1Q6Ul9VH3zL02Z5ls_A, _Pn-EmWO-pFPFg81ZIEiDw, _UUmslYG8Y-IYFf8rHl0Ww, _VTEyUzzH92X3w-IpGaXVA, aBXJK7fk2GDhDmgJEKiBeA, aG6Q_IKp5qLu0uV7LHaR_A, aYL7qtwOMdzYayaddq_Hnw, ay4M5J28kBUf0odOQct0BA, b39IckHDyVLVSGYhy6Sszg, bE7Yd0jI_P6g27MWEKKalA, bHufZ2OTlC-OUxBDRXxViw, bJguBxPlnTW29tRTAF0nkQ, bSUS0YcvS7UelmHvCzNWBA, bbK1mL-AyYCHZncDQ_4RgA, bbfwZ-2Pf6hLgEBUNRNsvA, c6-AfuZNgm6wFD_D-LsgIQ, cMEtAiW60I5wE_vLfTxoJQ, cm3_8c_NDhPcpwJQ96Aixw, d8Nz9m-8pYosZKPjd9yNBA, dTeSvET2SR5LDF_J07wJAQ, dW6bAWM1HbPdk_cGS_a2HA, e3c6w6sM8sJ_g0IlF6CSog, e8uzNcSC5tQMD22GNAQEQA, eDdQbUwwkoE_TZeqQ_1NNA, ehzvSXsijzgxsYHvXeaS-Q, f-ysez9SJSosLUON1BihWg, f5IFcFHro5_fgXDFTs6khg, fBO-AauqOjPX2UBp9RgeQQ, fVILhIglx6RNOXQba5t4kQ, fp2KiLfoIO9OIUV2KHkgEA, g3HFkZgloxLQCvoJ5Zs5gg, gUu0uaiU7UEUVIgCdnqPVQ, h4cduDwCH8K9LJrowoJraA, hd343st7cOIUSfAd5r0U7A, hqmnMdDS-Opjp3BfBJA8qA, iChrn349gyWB-8UGyn8a6Q, j-1qkha4h87wMfNfwPvfqQ, j7Ew20Kh33lFEaUXW1rGNw, jJDUCuPwVqwjbth3s92whA, jPcrABeWgWlTPi-E0Op_aA, jgoG_hHqnhZvQEoBK0-82w, kK5G8Un_cGkm1Q6aXzdgUA, l7sZTLRUBK0k3xjRTj1CSA, lJFBgSAccsMGwIjfD7LMeQ, ldbQ6iN7PYZl-1YCATvUSQ, lyIwECTGiPb2SNrryJFPmg, ma6206bmu-a_Ja7Iv-yRCw, mwi6OSsC4fdTc7E-LHc0SQ, n1cGg7NpJspFPUcyYO4lzw, o-5MEqwSsiHKiPNL09e54g, ol41034oA4J6R-IpokhxIw, ouODopBKF3AqfCkuQEnrDg, p3b-smCoDD4WgIF2upcIoQ, p8eHROuRDiStavK6iEkS8g, p9942XebvxZ9ubHm4SXmMQ, pUIcgAIyy-FWe0HrTpG_Yg, qlC607Cyp0Mj91vDFvkp3Q, qtOCfMTrozmUSHWIcohc6Q, rpK40ZN2rNFJLhfdlQqS-Q, sBqCpEUn0qYdpSF4DbWlAQ, s_SzQvkDfn18Cquma7DndQ, sdLns7062kz3Ur_b8wgeYw, sf8w4vCA_ppXUAje04FjOQ, srFEzTF-89_TipnEEs8ATg, tL2pS5UOmN6aAOi3Z-qFGg, tRZAC_H5RHrjvyvtufcNXQ, tUbgawKxrOmLUuv0KUKZvA, thi-jmMx-himXfCw_EuDSw, u2kUEnt88S7iumV-3Vdmbg, vKoECqqh4Q07gP_arEtMAw, vWP8-aQX0rYJszqkWVL7Ew, voXU5A3FfOcXZ2VNsJ0q4w, vuwSLU49A-NgW9S5uAvJxw, wGCIzYUugIYOds35_Qzagw, waN6iwcphiVEoCews4f4CA, wai1J7wtI5Wp0DUwy3QG2w, wzItnkHTHKNqJESMSTEYJg, x6_9RC7Mc0SsFUcWxEoN_Q, xGRYUU-o_xJXjfOdVX_pNQ, y6jsaAXFstAJkf53R4_y4Q, y8rcDJdocgCbiZMl3If-Uw, yCaDISH0R8e5U376zDWTpQ, yJLvkgnT2KJHBkgHPKoxWg, zBi_JWB5uUdVuz3JLoAxGQ, zKAwyRCGNpZ0fHu67YBUrg, zgo6ehbfeMOcsG9bgofMNg\n",
            "-Y6tXYPYqeVy37-L5p0rMw, -sby2p3gq-Ou0kBv6FsoXA, 048mif2uzPN800T90sAmyw, 1C4RBKxpuIQFOaBw-3brdg, 1IMyRISO6_VgWA2GamCw5w, 1LpChUg-0EqRKRKzL4ogYA, 1cDWwthpm94XmVa3gQ4KNA, 1eOJSCb2aDQakloIzVqiYg, 26WgdHfEjWj4BrN-cUNhVw, 2O_6Wku6xFCGoPTl8TjMWw, 2iuAprO_yJi6Bym8481Sxg, 2krGQJ6P0hm_s6NxA09IMw, 3mwqzfJCBbYSi_0Tpc_Abg, 3nIuSCZk5f_2WWYMLN7h3w, 3zuiM8dt9bq-1oHjpiEfrg, 4TWaeMtDSJv_3W-8e_qOug, 4dSX2TsK3jF-g8HzIpYGrg, 4hetE9pQKPXesVF4KB2c8A, 4k1d_QuXtkRVaFPDtaGgbA, 4m9NXICYBC5i9t4aTt-I6w, 4nQ7MOkbc5u-DYUOgjiDsg, 59QzQ3-dmOD1USV2hQpwkw, 5CgjjDAic2-FAvCtiHpytA, 5Wg5OanfZ4-2dCxEo-qjsw, 5rL-YgU3CXHbQA3Txzdd9g, 5wRCMyU9dEdkja_mO0qfeQ, 5wT0vDycEzgq95yVCZ60Aw, 65EhZESiOgXvXf2Nj2UBFg, 6BjjbdDxyYPGg4uyAhcELQ, 6UPWBTOfNoaGRahqTX14Ag, 6VGY4RRd-najo6dQhL3mdw, 6gXW87dUaXJey-NoHfazZQ, 6mn-M3f75hdynz245p-fBA, 6pDCqee5g6jFB402L15kmg, 75COHfu_drTAx1G9rtZnAA, 7O1_x_3IlgjpY9BkiZ16xQ, 7Oe6ikklTjVBbEFw9emLcA, 7PiRdxYF-Uvzn2fHqdtU1Q, 7WMbeIW3DTQE1HTYy3Gm8A, 7Xbgbb6-zHxeRrUYqyMSdQ, 7uNESKhTlge7kCN00u5LPQ, 8O6YdO7ZntA8nQhlUDubsw, 8c3XuWaEQwzbV9AtiXB8mw, 8oNbx_xxll_oNUh-x-s16g, 8ugd_yB1RecZMCWfSsr3GQ, 9PqSFGnlFC7QodpDWqy1Kw, 9df8KToLljo-v--Wke2W1w, 9kIcMeveJXxWGVOVdXyQyg, 9yaA8hGIxFubvf1XbL9h9A, A9AM8NH3ToduRvYDvDSADA, AG_bM2ATIvqgcGTBX-gw2w, B8WruADju0mx5FlkLfYYfw, BGZcv3B3mlofVJYG_TTsMw, BOijsp9rwVGS4ScmOMf9bg, BjTabf62vN0c35MsUSINJA, BwwqlPVsJk1dbUyNwCWB7Q, CLbpPUqP6XpeAfoqScGaJQ, CLhwqxLbc4GsNLDUC0gaww, CMu9FmdK8xpiawJowJuGQg, CY5yCvzJpkgsQUnO-S1Mtw, CYTpi63Tv_UTjsaTMCZUvg, D-_yG-XuT_-gf3six6a7mg, D8PJTlkMlwAyDjow3pup_Q, DO87qPRsSWpRjSxgr7yeyg, DaUJvHMmKoDDT3vB_ltJ6g, Dc4RrBfRJTnzU1_Ev00mzA, Dg9VkLxxuN95K9__sX6zeA, DhZMsFXWHmxsRSwSi9RD7g, Dl5twqkJmR67cq9aZl2bIA, DoxlwKliGyLiyWoN0akO0g, EbbOIQ5oAamS9D_B_7cC7w, EyVtVVwWmijNMJqBGQlv3Q, Eypq5gLLjCapBVVnMw_MyA, FAjCZoxiGw9HJKueB8YWTg, FmtnXwc_eyvpIv1Q1-bVCQ, GLFFf8XbOoRJuxZxGfUd8g, GzsewIj61htjAr0O0k_dXQ, HO-OEQgDzGq3fOK5sQP5Lg, HdUpeg9oYzvzHIgeJuM2uQ, Hk7n0zKhcrRwkvqgb_MQ3Q, Hm0diOkWwpo9zotlJlqMUQ, Hw5riZfnB-B7G79vBTOssA, I0ovidZUTV9A5LPIMz0I4Q, I3E0WQMyDhkvfrLHVot00w, Ivaiwkm8UOm7EHyH8trQ7g, J9incfcELJH0S_DPgOLuFA, JFnUwdlNYjDlTTEbOHoSqA, JMU4hmWtKJ_fYnDgS_RFag, JPeToWUwXEiwQGPSgNgB5w, JQIZhoQB-Tg9hdBEj90m4g, JfoVklSFhaOpbYJdlmXODg, JtAoso0Ze87DWqnmI5qorA, KMddoqBFJ2h9AYbaetprFg, KOHvhD69T7rlnK7zKO2wmA, KPAWdZ1oAcX7IXcBDvupWA, KQ9TbTOBwC5PTX0HXq1Tng, KbwOwQZTOfrtaeJdmucALQ, L8P5OWO1Jh4B2HLa1Fnbng, LIBCmKxseYYK4w7GOvRqsw, LVQ3fG3agkd4Qy90xzzjNA, LwVUO_5jjHuJRhvl6hlHVg, MFnXQb1R1IGLL_-W4oflJw, MZ70U0pR16IiZEfxVmkyyA, MqcfaSdLXh7H1Aey_HPUsw, Mysv9xU__c3T-LqtTr5vqg, N8bPJNrqCGuUAazxqO9vHA, NKRgQwaKNbRXXSj2Nf9YLw, NV6b0oTn99n8PMY5V_RAlQ, N_LfdeIdx-gRRrqgVGgxSg, O3pSxv1SyHpY4qi4Q16KzA, OHVhLKw_uIE7saIt_S-udw, OLFjrEeRX9xVESXUqFzmkA, OVtuIGyUhewxfTl4No9Rwg, P-qkBhjs4mkSE5JC-wTwOA, P8I1j-p6hxYrewXFCdkXLQ, PBV_oQCoABX958-zjiLGwQ, PKzDP0808qB1cC_0GReBJA, Pj1YbuZSkmhEHxdtlqt0Kw, QPREECpJrp8Dj3_TK22oqg, QeZmjeEefdJ3bdbAeIHfWA, R9TIWPBlMuzzWgYXZBnAlg, RkLluG0LGXiJgf2i9dGmDQ, RsaPge_6kU2UtJgb7drYag, Ru3XlA1NeRAYgtE0KUK7tg, SJuSiO27FTKi5qKrNDa8Lg, T-gxHfxtweNGSIKj1eDIsg, TBld0yjxnopCz_faRFIuxA, TZV5GikexuvOnLfqaCCHAg, TyepNPbEnMCy1_IhsT0YAg, U3MsNj_Y9QJR3zet2Qie8w, UFKm0aqCsjiRQhx8ilIa0A, UGW-9bbBEB3eP1o6mWD_WA, UetOIhAdPBkGjm_o-mSC3Q, UmTMCfPlhA6kJLAsLycSfg, Uo5dPwoDpYBzOnmUnjxJ6A, VSRtEK_c84oJygZ0OX0Oqg, VVvPNapOOZi-TwNIM1YnsA, VbxGVU7QyGeZkJW_4AXuFw, VvYbQfNtbNZFj13cs-gEfg, W37KqgMymarQaqYGOWS70w, WO-8BmpIuaJJnzgEU5D42g, WPNYp3IyJpOSJ4bhFbYAcw, WRnqI0l71Bi9wK2wsnETSQ, WWnhqRnWWjutMqh-2SzEuQ, X0X3hiKv5CigUec1XYi_pg, XEqQG61fetXhuEV9RPslIA, XHuNSjrPA3Vyi7n4iVhZaQ, XOCyTfXy26xi4gZeun9v9w, XRSdeFZosqxyykWA1Ii3HA, YJsjA7msCI4-Dh8_pDcSYQ, YpHLnlPF-Z9HFNe-BvRgOg, YsL6vAU_COmCnP0iZk0PGA, ZZc-pFlOH85eRoUqbtz2Nw, ZnIaEvJwrxlBUjimIpx2Qw, _50EXPLguCJR8o454dtD3w, _5HFgadpCIaSVINVvse2Kw, _6Zg4ukwS0kst9UtkfVw3w, _MjgqPR1pvDnZZ6wCwabBQ, _j1KnsWLVz3AU1mmm0G0JQ, _oVFknPUotEq0LM4TJ74vw, _w22R_jg5Y2SEii3ioYGWQ, aZ2DKwGjjTfrGn4AOSI34w, aaO0SvyNh8sOLmFFRonlkw, aiJVlwMp6_3_IFmQnrgSTg, bEVFXdlFYzZzXsYY1DmXQg, bGu1K8WWpAWpYPCjFttiDg, bJTKxBIvb_AR8d4SuLPV8g, bPu0FHiJ9FH5d5PLXo7VEw, bpJLcSlkjCPtsFWwA_QIkQ, c8LIFoiJYExEQNaPi4vdHQ, cAY_gYiIq68RkWhLennaKw, cI6HPks1hNrzI5VKtdpzrA, cafRiSVWRXlxDEK2YNrJ6g, cdB_dIYHieklXNyvmrXweA, chbCROaKWm2pj5uUT-ruGw, dNIxs3_qcAuF8S9kS9iFCQ, dPG1cOGb7ZnyaUl8M7h4bQ, dt9IHwfuZs9D9LOH7gjNew, eXVdbhzZGvIVbqVJzP2bxQ, f0TN5yZ7JBMKIzr3hSuwFQ, f47N37WU1_PsQKxvZdaTwA, faDQFMrt6xt5LNfxOjaZ9w, fxrQSMhHlBv6eJVRdchG9Q, gPK2AKr-UA_7hZus80SSng, gQDLi67PvBxEWsQYAcyMsw, gT-qzldqXWVIWEyQKvbrww, gn9jmujma9SyDirweX1c6g, h10d7CwjuEtcqL_WumFgmg, h9LPugJk2cpIh0gmQb5LnQ, hgWmZXmxG90Zt7Hm0OWqKQ, hjcOqlZLCvOQvwMdLsiOcw, i8O9HI9mZZI1MRK2LrJmFA, iS4m_LE7f2oEzYl09HiIuw, iopwkjwc1WnK_-TT9R7l7A, j97PtHlFcx7jhmV_1eQdtw, jSbXY_rno4hYHQCFftsWXg, kC4kfNQPGL0MtERXdbdv-w, kHGRDaZt4nHgNSJcjOTDeQ, kSOkDKEdCzDjOVFaqOcTKQ, kU3EWX0s1mlYpbn98S57lw, kVAy8nol_GefMbR7awm5TA, kXt6tPSGLWhWTiXO7XPjuA, km3lnJeuDtQrtKxyU1Dwfg, lcrcput-8GMw6St64LIr9Q, ld0V9rlOR4wllUpGhiFtxQ, m5b84-nPPVNLlDtZyVGZ3w, mLeMygUVo3j-RgP5XJQi8Q, mY3mROf28N-vY1fpR-FFUw, mdmFPUq98OtP8BQ4fCs8wA, mySDXsBhY3u0yI-G2oVDkA, nLN_gehnTY6vRgpNJP2tOg, p7KpwlPgfpUPQGeD-8bCvw, q_GNUKJXBlMnuezCaxTNOw, qba1JQlp5a6kEwRRTGxdkg, r0GLQAawvHXUd-xZow-fWQ, r5ggPC6OccLk6dDl5yqsJQ, rmrDS1VYA6hySyHtiyBKQQ, rypcWiSNGM0suWsiSLh9xA, sDlRFzGHzfpFHaxvJ1JtTg, sFJjEc7ytSUV28Y7PpdMjQ, sMhvlIPGLUlRA7QsWlqBOg, sfQXLZGk6beiSuNZYb8iSQ, sl2R5RFdX1QBQX66T_IGwg, ssgRnGGXxigWTEXM-n92lg, tH0uKD-vNwMoEc3Xk3Cbdg, tOzTi_wIS2Gajy90pscoMw, tWbHcG7yKqFIhmTrFCvOCA, tX0r-C9BaHYEolRUfufTsQ, toJLjXjSofVNJ1icmMwzfw, togwFqr0eHwect2P2eZXZQ, uERlyO-ASZag6XXouCrkhg, uUO65LtFuUbpBALUh0-7Jw, uf95iifC_TQ-DtDs0rtiXg, v-R38AMN2ZZgr_iszlgc_Q, v8PQFv3Gqqopmg9RDjxP1A, vQ5TMhkJHt8Wt8A1kDAzbg, vRjVhl3ONG2GfWY4NXJZbQ, vX_GHesdmyjEQWTQWHRScg, w5xsTd0rUnTp9wd0w1qTpg, w6CGizr474vGmianllh3FA, wd3xoNaDLib8dhQ7BxUl6g, whINg-cC-FiAv_ATDGMDTg, x2KHPyEmsg0VL3B40-xfDQ, xEupSNbB6H8fomOjK65fgA, xO3EIJR0QNzM3CdajinWtw, xQdMNaLHMEZEFLRM10TtIQ, xmRpmPg3dcKk79r7c1b0bg, xqUn2yqxQRq5MrthbRb-7Q, xuEnKqJD0nBEu-1U9aXbhg, y1b_9KmwNUWG1AS3CazFLA, yeV3nVEuPK1RV8kjjKmZkg, z908ldotiE_K0-gJv0qk8Q\n",
            "---1lKK3aKOuomHnwAkAow, --RlSfc-QmcHFGHyX6aVjA, -2kCxY7_aw5hOz7fJnGMbQ, -50XWnmQGqBgEI-9ANvLlg, -7bM_DeL2Kj2CuYuVDsLNg, -8syaSLDbMXW2F2FApVgig, -ARdx8hOcEWlMDjzwLYZ_g, -Ak9LVDH8GYyWtIMnNo5Ug, -Q4HGzcXSCeiqvmY2mg-aQ, -Z0uXJn_uP3U0h-e31sTKw, -k5yFUChotBMGQgHdFZvLQ, -kMn9KvDYmTMeroUf3nVfg, -pXs08gJq9ExIk275YLvPg, -vjSUjoYYROCHImyLenDNA, 088ICGWrFMiVAzD5vS0cRQ, 0C65lVj_ujVYDs7b2yYBAA, 0KhRPd66BZGHCtsb9mGh_g, 0QdwQLVxZpgy9Qb2Qakflw, 0hL2l77z1TO4_qbGyrdHvg, 0hMC8tPtc_K_ACAj7pss_Q, 0oCX_noDIESiIHKf7Sly1w, 0tC5OOTuwvPGnnqhPCoRSw, 0uNxhZAFbkalQImzJ6UDUA, 0w03V5AjlO_EHnRRorlLFQ, 12iozmUYN_gvAng9kMLs_w, 18AjAXsR5IaERUdxsyDo7A, 18TEYYmI9ium69_PXo8BIw, 1JEXL5K6VTx01tAs6Jskkg, 1KQi8Ymatd4ySAd4fhSfaw, 1N4z5Okxbl9Bz6Min-ZYTQ, 1ZPnQs-tdvbX8ROjtnzcEg, 1dXlJqv4YG0pb10Je66MPQ, 1gEzF_sgGxgIb0w-ONBtBw, 1hJQYk3NiajdYK58TQi9EQ, 1he_r7kQnK5MXOYqXD-Gkg, 1ickSuyOWWKWdQpauKmkEw, 1lad9hCBGpHAS2uMSrKCPw, 1nTGhcG7qqL4qNR8pBwc3w, 1st2ltGKJ00ZcRsev-Ieew, 1zrizQcPPLu6Fnfy0_ZLdQ, 23cjtl3AWJtxKL3O78-Djw, 23o7tyUGlC6FCDVcyqLeFA, 2Egv8FVBX-uqsZEsko-Xvw, 2JDWKHpR0g4QA4MHmFDprg, 2MwTGjeeSnANvp0EmKPrWQ, 2VKVhy1SwaixHCeiWglLUQ, 2XYdguaaZ7dgi6fAlddujg, 2YiBYO8n32upYTJnpWgqLg, 2gBnpLchnstAV9DvhczYew, 2jKzO_01d12oiu-2bOYcYg, 2k8OVAPxlXHsA5X6EIoQpQ, 2oeFc-L1Ow4UC_j_VOS_kQ, 2pVj1Hid6_Iq3Th9xI0aOQ, 2t__HKqBFV1-2eIW2Nom9g, 2uECxJWkFhekoPkxVQgTsw, 2xVrxhQJUBmOyG4ML77XKw, 2xyBKyVe_Rf5cZs1nKulXQ, 37HswRimgBEf7_US-c3CDA, 3971tZ7N-Kq-kHzsO62myQ, 39FT2Ui8KUXwmUt6hnwy-g, 3H5Ty7TV7SZvZLa1oTUGDg, 3hWJxx8-gMutgaKY2T7IKQ, 3nDUQBjKyVor5wV0reJChg, 3rsZCoTmr8EM7DwtGm_RsQ, 3uWCWMWcrn8YSH_qBvlr6w, 3wDRFdjpeq36Es97Zj2iVw, 3yPrXlvbECGKHSZTy9usWA, 46-qsKjqR4vptCIYrHH1yw, 49K6GNShDqaodhkYR8E0gQ, 4DY1zLS6qBpBM6EmLOdjwA, 4Iwu57GSychxpqa4w4HAMQ, 4Urg4tXL_m6nYsOt34mAeQ, 4V6vZgVCfEfYwXFK3tnTQQ, 4rwyBw1cK2AsDfcJGkCiRQ, 4wp4XI9AxKNqJima-xahlg, 4wpV4DZlNxQ2xG_O3Y9lSg, 4yGImSwdU9FZxVQIbZql3w, 52TQfYYvoXacyBc5g14iBg, 53QaFbmZojYK0vv3RQagcw, 5ArMzPUBncPqDrB7PmZBCg, 5DgFmyjW6hkBtXtTMKl4tA, 5OllWsrKJsYo3XQK6siRKA, 5ZrFDFPJe8Qq3Zgue315oA, 5daHu02u5o04mm4E7cHm5g, 5fQ9P6kbQM_E0dx8DL6JWA, 5fZk-aijjsRehb_jZJRXag, 60skTN6p8SdQ2sGNKL0vRQ, 69xsJFjiOAd8Ld7WWk_tEw, 6GN1-lN562HbUOBN51AeYQ, 6b70zKcJjPpi4WXIVULAzw, 6ehZ3X1gaHe-fxzndNRweA, 6kvGowEk1AvUUwWHLkJyNg, 6owWBv_F8Tqti4zmnn2ymA, 6s-g2vFu12OemhiK3FJuOQ, 6tbXpUIU6upoeqWNDo9k_A, 750rhwO7D_Cul7_GtO9Jsg, 76xS0Vin4uT25XKaxbsvmQ, 79yaBDbLASfIdB-C2c8DzA, 7G8w2SnaC-qDVQ7_GqTxMg, 7NEmI73fmuLghBls4rKM3w, 7eXW0KClU3J1ehd-QHO3Sg, 7fZu8ud7JXFthU0jPxVf4g, 7hlF-dR-m-e8nFZMWao8cQ, 7q1EFKcjUTQhUrmjY2ZRkw, 7qGe49__QqCpk8ZYOm7W8w, 7svBs9qqPJHPRXZ56Q3ZuQ, 7vyw57vXvZl1LAXK4vzQtA, 8-S4AUMpk_3ZKQQbWgiwvQ, 81oHDSsk-VRJm-Bnn_ex1A, 825Ol4rTvAZnUyFMke37jA, 84DM1UZGdfeHmE95SqqqKg, 85mlGf0D7ZgGETX4N5vlBw, 8JiNjuhu1J45St3mEoQCfg, 8Ox2EA8A7FVSzVEM3TRn7Q, 8PVrN-By9CwpO1HLoyOhYA, 8apKnC2iVfWnfB4cIgUBMw, 8kxKstpDxKjCY7QYY3t43A, 8oYMqhC5fhqAK_yxRjE7dQ, 8ziF9bL2WU9boE6du0yAIA, 903YwVSoAKyzudc8LH_HMA, 91p9yCg3QqxhXUvJlwDsag, 98rLDXbloLXekGjieuQSlA, 9MU6L4v83qo9jmutekcWMQ, 9S52XHEyrvOv4OZxU6pCLw, 9YAcyOPntf2HJszcWgkLow, 9qifJFihPDTSJ-aGiT8b0w, 9xlwSCtOABq2CuzY_REQpw, A0hxaeKlrnObsikUUMVO8Q, A1_45irWt7CcWmptXsqRZQ, AKqMnr1bEFIZDG_zQzX8sA, AOBfqfNw9wwYwHZJ5Ov8Yw, AQ68GdYacVeqqqroAh9eOA, AWt-4_RGNqz9u2T8XfOy9g, Ahix-3uCOXmeaTUv0xF_zw, Ams0iLRd0AhZZectGKA8fw, AoII0-uM9z0EesGnb9YCjQ, Ar3bat-NGasrXDiS7WF8OA, AwotTxzd_M5ZevluUUVkwQ, B-60XQ_fR72PevFzHM-ieQ, B7_ARdKo_GT-gjCSRGErXA, B8D9WyakYaObjA2icM7GGw, B8opqyAy30zdPyr4gQkhLA, BFiugNKmIQ764j35aBAusA, BV-zv5pURcprj1UKcYNwqQ, B_4cl4IGRqYb0wQSe-rYjQ, Bim-SoK8wItqFC5NqnN_Sw, Bl7f80PfVAZ6kWK7aJfRuQ, BpJWttiu9h5cgxtVkQZGXw, Bsbumyr3Of8BauN2URK4bg, C2RTNSaPYu_TKvpHxN41YQ, C9Xy03vm_oJ-vWzn-8TB5w, CGCDnRwWHbsx3p6yRUE4Hg, CZnuW6YeZg7ZIiTbmI58BQ, ChshgCKJTdIDg17JKtFuJw, CiJat5Up2jAO3B0qTbiN5Q, CjHWRUKXhhley9N9NLS07Q, CmdAdoH8xaxwaT96TthraA, CwFebMF23wOAepWE38XACA, D-ZyQ4iT1XRFkcOAWXnxCQ, D1OMbUi-jYVnvJ8gZ2LXHQ, D2d7s-UGkDfjTEjkViTNxQ, D43OWyfzIQjL8feJpYh2SQ, D68xkISnZM-ZgXHRMnKo3Q, DIckqqZNAQwL5ySdqWIJyw, DKolrsBSwMTpTJL22dqJRQ, DPtOaWemjBPvFiZJBi0m8A, DWfos3PxcrkqAJoAZHEg3A, De-dImXf-TOFWWPTUWwIvw, DeXKbQYNx52OlOizobOLJw, DjcRgZ0cJbf6-W2TxvFlBA, DkuAUXINszlJbJ6BZbp33Q, DlqdkcwoOUL-65TLLPFvcg, DoRCeCcJbrsM2BiAKj3trA, Du9u6dXgWYubbnZuor1KqQ, Du_IfiiJLU0ReeRetapkzA, E2oq_BwdQmq_Vyte65icNg, E73xr_twLJZemdGrXWQobQ, ESSWEfZZp8vJpldwp2G3bA, EWkQxKg-KOzujC38Z_40wg, EY8h9IJimXDNbPXVFpYF3A, EYwvNonD5kUGGNRTGjAAHA, Eb6TPevViIzBy8ApjPtuqw, EmfYZX7mfTUB37gSjpcrAg, En7f89rLinVHhSUvdGYj5w, EqXooCH8CV3yzATS-mZvaw, Eta0tfNygqtTomlAG-I3yA, EtxsD-Jbyxh7TsaWHtGCew, F3St4qtWbljWfhmb6Da_wg, F47atsRPw-KHmRVk5exBFw, F7poxH-y8vInyzs2NKBzRw, FAxwG5UGRi0fIIIWJq7eEg, FCGCxiXBrj1p_8cscTeQXg, FH1zzokLaW3C7meH7HQF9A, FH4wHvhB95Yo7EBspN5Ulg, FIk4lQQu1eTe2EpzQ4xhBA, FRxGcIRukrH5lW2SQSxstg, FTZyZbr1eF7s3Ss7uSLcXQ, FXPGGtOlCawxz5Uw5DNF3A, Figs8mO8s_aPRq2W7W0cYQ, Fr9OjCKLIKrV9zXoyrbSHg, G-9ujgKmc1J2k7HSqXszsw, G0hKae1fj3M3CGz7EpTqEQ, G3OquvCW5wpD2SvdNM-K_Q, G3civyLatxrzYk0lln3MUQ, G40odYEY9J4iWOZvfRT_xA, GA40olKHiIPkGzqnH4Mjlg, GAg6-691Wn5YLENh4tmQxw, GGTF7hnQi6D5W77_qiKlqg, GVYg18F-Rkuk63hvtHoG5Q, Gh6sagblKhuMpWUDWeQjNg, GxkY7BqazkQu6I9HBDpbqQ, H7pj7sbXY3N-WSEwa-JfpA, HItxQKPMF5aRSRgAH8pafA, HeNrUXWWofX-7rNij8tnkg, HfaT1zkgTnBEnqcrMZ4hrQ, HkKyQY5bh57z7vhmFAZj5w, HlsAHUffNbvX3T-R-ArmQg, HmhjcPCVr0TbPsPhXV-Trw, HoH6SgtKLt5Fj8hn3tkJHA, HoemKQuNW-0J8X5VqDip6Q, I-4KVZ9lqHhk8469X9FvhA, I2OXWsGgBpmSAgeU43nuDQ, ImBb4MxG9wfTkZfOcfZhJQ, Ir__fU1m6dBqgTrP3aLP9A, IuaAfrkirlfzY3f4PkgSmw, Iz1OjH-QHe-r9a7gm2sOLA, J3ucveGKKJDvtuCNnb_x0g, JM0GL6Dx4EuZ1mprLk5Gyg, JRqMFKGxx6DnTGZrxwQZaA, JVbqMyicxGWlEVPpyo6gpQ, JVno-Jlj1rpt9WG6lNLQFw, JYcCYNWs8Ul6ewG5kCYW4Q, Jdx_u3PxmXLCOyP_Pkn7Sg, JeERFBZyECRwzscG3dvKQQ, JeOHA8tW7gr-FDYOcPJoeA, JgOcyMF1lTwSVCarSZrrrA, JgW2N6iok_iBytH2A3v5sw, JktkPizuRAA32z-m1UCsBw, Jne7UiKCp_VsSsvh-utyQw, JqjAthJThuVYgTh4iWDZ2A, Jt9NqGyuZkBsDp3sjYFe4g, JteQGisqOf_pklq7GA0Rww, JtpZw-NLL5m6BNjd0LPQVQ, Jv1N4dr8Auo5PtssZZF5jA, K3bzEv1h7CP-B92bNPhFUA, KBk0LyJxNcXsplUW1BIxFA, KCwfAJkgpi3-J1Es1qlLyg, KE3fPgfxEmfsutKxMlssvQ, KEAP--MnBZtQ9kjjMU-RiA, KRGbR3MMNj1GTkd6SN_PwQ, KbtcIPQdfmXToZV24trjVg, KgJdBWS3ReP6TVhYWJRKmg, Kib7CLruGTMwG57uRWCPHQ, KjLjePO5TKKhmdo4ZwxKHA, KsK2VrCDys9hzpT5JMkkNw, Kw5RHGNWA3ByBPzMv5oaRg, KyieFxrQxDx6ncUVLaCPAQ, LTxiFtf3WFiAiWMJgZpIXg, LiNx18WUre9WFCEQlUhtKA, Ls5_wUZP9gb-RxGI_EbOqw, MCRBroYJz6VVeF88T-tk4g, MHCerAmy_1TGc85p4Qr-5A, MIyk7EehR0HUumHyJECaOg, MJ0Wphhko2-LbJ0uZ5XyQA, MjwH65PgZWVR6pKzA7tH_A, MlhCUi0mqIi--pWlw30iKA, MqVEbImMF6jYybA48_cufw, MrsRJa4SWLq8XLU1RtPdlw, MtdSCXtmrSxj_uZOJ5ZycQ, MwpK7PqQX7fgTFM2Pfy61w, N1TyFoXe4cUQ9E03fxiPMg, NJxfyWtbOi9WDxAvfgqLIg, NUtVG7jNPLJR2cxMXMH2-A, Ner9deZ2TUFxdiRijBpOjA, NfU0zDaTMEQ4-X9dbQWd9A, NlNlyQynkyEU3l7TR3LXdg, Nw-RuNh3HKIiQ5xb8sXSQQ, Nwb9CPnmRJFBzQsXkCq7-w, O-CJSgFUDt0LqqsGA2zKqg, O5uqPjm8MLjFqUmbSUmnww, O9pMFJSPg80YVzpMfNikxw, OFh0f5zmSZCVs38OW6w3cw, OKDEyRXR-eOt-wUZAT8MfQ, OLGQ7alK4VKl3YdQk6UF5g, OXwmkyamQ5H6Ed0xZo_kQA, OZWskTOKCWvYejhu63gFmQ, O_3ceyOjYpXxLxboGfusYA, ObQl16Vuc4sHPGKtzSGNUw, OfdX0DGrAET9jqn_7gkXww, OoyQYSeYNyRVOmdO3tsxYA, OpC3aXiae85C3jazi9IFBg, Os4xct_bJoake5XrAncZ6Q, OvQtTXbpzJFGhbjNqWjGOA, P44rMHIMlDNntn6vDaGi0g, P5neFGzLzxsvFLFEhxKx3w, P7Qt34VblZupUifRJ_5hbA, P8zNvht_iXkpkv74yrNUEA, PD3X7S70zXHeOx1NjeicjQ, PJjpm8Kb4u2DHvj8yBhn0w, PKEzKWv_FktMm2mGPjwd0Q, P_GF0rCpPysW5Mskj1L16Q, PdUZD_Vnlfe0msM93tZrLw, PhSGXS7Ly2UWLSSIePVxtw, PkRFSQgSfca9Tamq7b2LdQ, Pl1YRXDibRLFADVH2hTx7A, Pm1bHgmnkOJOFkHPAr7PjQ, Pn4W0F3wc6B5fAEwpKY0rQ, PoADjvCdEl-oHyWETaW7Ng, Q84VBA4O_oBvHZSAeMMVUw, Q8xzaz3-OXAxkhtjpFD8jw, QFvxjeMpAKhYqVeLXCX_uw, QIJ3xg6ueER2R0zwQs7hQA, QYKexxaOJQlseGWmc6soRg, Qci35se57c5foS0hq_imVw, QxBIfPH-0JoOPpBKVQg8Bw, RBNPf_GF8dWlWPxWvkyJXw, RCgfxH5PclsgSKRWDGJ86A, RGQ6gdr7_3auJOUWvU04XQ, RHeE9X2yqg7TNeKzCNdJLA, RIqkpqP_OobEoShoJcQtXg, RM7Spl6bORgnOwLO8SiaJg, RQqfT8WQlmFHmPp9X8G9jA, RS5JztShXARj8kDJoDs0-g, RTWsMisf73pGnbagf1vmvg, RWGJvGak18-mXGYQo5wFUA, RXSFT4K09Ta6oTdrvFGmCA, RdMD77Uwe8Mjy_EptbPa3g, Reuq65EOFI938Yg8xgff9g, RlpkcJqctkKXl-LO1IAtig, RrLRd9M2Q6iYCNnKMZsdtw, Rse858Yp2UrgO3TRKoNWhg, S5gjc86AhOZPWcD0czN5IA, SDAjElWg3R5x8AGo5guKRA, SDgrUDEdWNFBlC4ufVk1PQ, SNBX_-OaklunfC-4IwfyOQ, SVcQ8yqaLDmjMwPRDwQPaA, SbdrkMeBUiexjkzNaSEQSQ, Spgm6HFWgc4YXJlbhg11Pg, SsOiVav4V5_NjTl21Lj92w, SssXdhbeYJOCF6sfSFwC-Q, TEHiUF-e8pa37rByg15MmA, TJpPDsFGNm_MfO6Z3nqfDA, TZ974xcbw2kqjYxAhDUYVg, TZelLnaGbHgaG7LBI6rfgg, T_RiQ-TOeZf8N2kiCNCiSg, TaJ3hRYUW9Z82HF0qc4hFQ, TbhyP24zYZqZ2VJZgu1wrg, TdYKJgSgY2GF_YJnwsi5yQ, Tf2UEmgBq1q5PNXJYjDYWQ, Tq95R-E8w4zqXVt6ntFBCw, TyA_1wJ_irey_D46gfdppg, U4RVxbj8DxG68fI-qZbZzw, UJ4uCYEppIIo9IRGMx5E1A, UXd56jH3f76kppekXqui9g, UYcmGbelzRa0Q6JqzLoguw, UgMW8bLE0QMJDCkQ1Ax5Mg, UpKyMVk02grOEJDPPsbZjQ, Uw-v0UN_g_oFvldC7HWXMg, UwV6jBuTR1S9acT6bPTBPw, UwaWaPfhe4ausLjH_OxGWA, V-BbqKqO8anwplGRx9Q5aQ, V34qejxNsCbcgD8C0HVk-Q, V4B7E7pFlTMLQIp0nQ4UAw, V56AwFRZ7JErc_6dD5Wkbw, V5Th21KjUiYLJQyV-vGtpg, V7BwgPV9st-7coMmHh7rWQ, V8zmwUhNWn1T2K08iLA7JA, VDseKKt5Oe-4fU-z9bHJiQ, VJ6gRN2AGplIhnyVA_mMxg, VLy6l8L72adD7iTBNqiPXw, VMfwMYh8iJapW807Pu1Diw, VVimjPD7f8O5D1fhy5vSpw, VdkAX9khigCjpMGuMNWYMQ, VdoTNYWuoXo01umgannw8A, VrAo40MP-MaHzJb9aSypnA, W9MPolPlUiUEXYfGnYiHEQ, WIu4IqktLQ6Qm46L5r5Baw, WKjJxl9Zt99hXUEq8zCLkg, WVpLGijDRa7pk_yuJTZu2Q, WXA_4WVO1tpD0So3pZOQQQ, WYSf63EuLpUbSqco5BsSKQ, WaAOt_eG0_-yLpG3fI--3g, WeVkkF5L39888IPPlRhNpg, WfbJKGJWj2yQ50XRku-OzQ, WhBwqZeQ7Xte3Tof9DrdPg, Wi0VgIrbb8vqU6weyVw6tg, X-VOe5bzT9EJu_L_Bt0nLQ, X3frtPLMgwXJAlGxcJvEDQ, X9qakqm1ypizTTiC_R58OA, XIkPvspzRAoEp7McGt9rdw, XMN0nIXjW_wEyKQZCIyIYQ, XNPwLVwHPyrOaEQA_sI1wg, XNs2G2K0LFMmaP1ceUZQfA, XOgqs74hkbXT54mSp7JMRA, XZxLsPuQKziCnuF9PIF9vQ, Xb4aKpOlHkp9dmgTa__Q4g, XkXhvRmzyKzTaqXcmfAsXA, XrYTMhY9YJvzX2pMepIz7A, Y0-lLNc2Y7gUGXPzSsMueQ, Y1N7LPhi3xAq3UBLKWpWNQ, Y3PQ5P_R7jcgiIS_1dIv-w, YEDnTf7d6RyXKEHDGqi9tg, YIMeEHUYm69m-Mqf-NjPHw, YSGUCqerQCEHOL8HdWxAeQ, Yc_DAhEc7maqaRFli4T6yw, YhkTKKMo9UQmdcxx_umxPA, Yj79QbOyYO1q6ythwB3bvQ, Ylw1l9OqrzZEiltcEJly9Q, Z4-V0hc51oxUdULWJOufeg, Z4LjGuS6LGmSijnRB5hZBQ, Z4XoVRlytsQEfcFedenD6w, ZA1OT-PIZwz2kdHDA6mShw, ZAfQEyVZ9yerd7lgRKlGkQ, ZLN5ty_Vp6vQycBAJyN-3A, Zk95TMXDx0zMUhYq5u8pxw, Zpk_NpxZ767LP3Zlw87y9w, ZudG3YIMP-6xda4yT0OeEQ, _1SKSmLqpHBqWh09DxQMfw, _7zgzdB1Qog-HUWQdbH0pw, _9WN_qmjbbRu6eFCMVXokw, _O34OQgnyeJ-9w3VnjDR1Q, _O5ajREINPG9zeyhW5Dmqg, _ZMD-Abvm-DHCmsOF-f8FA, __RoSKn4Y5gImPoRkwJACQ, _bPcvvWjdvvanjcEAF2OOQ, _edEeOCPeKywzpjzd6LR0A, _iBliY4plQYZjHj8FCMvjA, _iX2q6GKxrYVrcGpEYwUWw, _ir8NHMtV7KPTwmBmlkmQw, _jORWwtXLjrwc5heCc0kOA, _lqJfN8BVwl6wxfpzkaggg, _pMzR6yoPbU98t-NH8TZ3w, _u8CA19OxfBHG0Bv6O-zvw, _ucMEPl0IRvHpruqTXndiQ, _uqIpl5tzucKuIlZZPBZRw, a0PFhUOtI7Rb1UVyTEZdiQ, a4mO387_O77ebmv8AlQB3A, aCVg1R6liNms14w1JpI0FQ, aIqDek9d1fDEgLIAWXMGSA, aQJtyvmZg3kCd-tfZ6PLeg, aSiDSB43CPHwyE3LACuMvA, abzIJZ1HBSsCh3X7xUAZ0w, aiXFgj1oU-I3idtifgLRpA, ajxohdcsKhRGFlEvHZDyTw, anTmWtK-REFMAaLPzD5-ng, atXRV9crRDO2VzP6XOquJg, azkRd9DrWo53-seEECDb_Q, bG4EeVOCEXnvTtZTI2GVsg, bIXj8nZWd9f3vEHzPUJ4lg, beh2zi3UfykALTE9myYIsg, bgb3M74BW_BVJT4dJqnnWA, boqxGXXD1_roAd7RSYwAYg, bu3qhZXlxkWir0EzC2txBQ, c2MQ_LPuvtiiKFR_-OY9pg, cBSYFg0yZ7ua5Fl_xcsfNQ, cIbbfJEGLB3B-c8Po4AL5g, cKqZk06hmnX3UrEzzfFVkg, cMJRdrRMg2C9oHusZcuJtg, cOtuyeootGhoNQJVyVmcDg, cVHGXQFo2roQGH0wvZeWHA, ccl5JZivv93oVySmX6TBjQ, ciS2XOo391iRUR2DUmSEWw, ckMFtaljrmXWaSiQqk9ZWA, cuCf5ydDSmXAgAeCf8ELtA, cuHp8luhexZ8XP97885d8g, d0D7L-vfQDIADolnPAcb9A, dD5vTDPzv_79m8_zZhc9hA, dERyXf-mY20O8yTJVK1diA, dGx3ECvJ3rz_isz1U5LJJA, dJtFy2jc1R5cSBab4BLORQ, dQm7mXUyHfKBmUj0aQMSnQ, dRTZgTVahakFKkQJdyDX4Q, dRaLq9sF45RYHhKfUd8NMg, dUGwfQfKYiM3qWt-FvVPZQ, dV4RJbS5AARppHnAFAHUTA, dh89cS09n0337wTvdX8YLg, dnv5UpldAE6UITDcMleLVA, dpxRA20vDQOAospE_1R6hg, dzJDCQ5vubQBJTfYTEmcbg, e5kg9bLvlJz-MEUrGjIeVQ, eMOpOLfR1Zz5tfHUlzMp_w, ePm0UDfRzThVIsIK5gSp1Q, eWD-kLqwCf1MaZxvO4yDLA, eYnS0WVYYykN_gRuMUzoOw, eguB3eXzLRK3h40Oi0Iw3g, ejzke1gX5spaR-NcrGMn3A, epkRB3J_oBEiyiwahvdmGg, eqWEgMH-DCP74i82BEAZzw, eqf73ESNk8UrVCVJvlW5tA, ewgjXpnIqp3Gc4Wr9RTkaA, ey-4MP3wXg9byW4QFj2_dg, f4GXSyxFoHFNW7Og0J3WXw, fFFTeVrZfTWuvbJXNKb-vQ, fLnkI1uHtXEsjtF6KoBHbQ, fZ7fLMqArGTemvXPH9H3FA, fbbXmHoCfd6wXMHnkjgDTg, fcWM-oqjgS94yi1INhZa0g, fiGqQ7pIGKyZ9G0RqWLMpg, fm6vvm-T6ojK41Cw6Je3WA, fo3aQuxapB_QJ5lcCHOVIA, fr5efb7JrVpFBF9q303NVQ, ftUrNSpxUr8eWCyOlsZVgg, ftttLxXB10LtHJ7v0j2hDA, g8E-RUZZGAHwnQoelG1K6w, gDmAxtID6dyGkzmrVTNDDQ, glpEReUfFMUgxTAsgDpcqg, h1KzT38UnfzR7maSi7oVUw, hAi-sBBQF43tQqVMmEqVew, hFy3pG3uBnWbzYk79nntVQ, hG2R1kAEA97Kyefydj2stA, hJ1ODk_lPKZ9iJxlxTOqnA, hJqBNS5Tdo9Du-s3DDpMqw, hLVq7VSJBHZwqurwWoCmpg, hTZb1INhnCG8URaFywVoYQ, hYWwocw-J4KdyGLrUlOYXA, hgJt7YcUbeTwNBxOvepgjw, hilL60vuuh06sMxs6Ckkog, hrA2TKOiPrJ0Va3ceAgq9g, i4SBiZHVK3vTYqie4M8P6Q, iB3iW2re2A4LQEFcpXExFw, iN5kL0PrH0lb_69fZ6difQ, iQ0TzrwN4BgflE8Aozv_IA, iR_1zT6KsyQjPQybcbBpdA, iYpP1bb2LN5RJaucO4Azlg, ibfw2LUjalN25aZYDY6EuQ, ibvH1Y7Rh_tstiWgH0OFTA, idkiOWam_lobHnIeZEs1rg, ijET3u6uJ7Ug7gY5TIDB8A, ioF_-mjVYQDO7LvSd7IUMg, iyhqoE49PTX2VNITzpDw6w, jFY8cEqe8JPPUoCuFqB7_g, jKx0XOTrnT6gHiiRZ-UVKg, jUZW1alRK8QvdZ-pH1OquQ, jVsWBaVdvVYT9mMYvM0Zjg, jY1shXf_LQVhSoUyoXqQRQ, jcriwcTidug0fK8sgAloHA, jwctwzboGhQmtC50Juxa9A, jx7w1ztxqpRrA7pBoOfu6w, jz8QW9MrYfeAfAmaN4Fy8w, k1FxBPNVosnWJHttRNdvPQ, k4M43lXJuQMpQW65DTqzIQ, k5XFyzSbP1yW2nXkrh6ZCw, kZJWAY828P8QZTqVYzhTCg, kcLuh-ck_Zj07TsodaaNUA, kgRTizyE1oY441S8gn_eZw, kmE8w5Y785eZmodsx0V6Ag, kpGq2TvFxu39jVypQ0wlUw, krO4n8SbhfM4deHI6IJ4PQ, ksYpOznbD-22wYpTiacHwA, kwIhn1_cnQeUaLN0CuWWHw, kzz4lKJl5b-Kqs6f_H7u3w, lOu5t9HG51UDqm4ahVatqA, lQCY0csLfjdDn6cdVq43UA, lRZtDXG4ijBqyIlQAno5cA, lWwbztYfXdAV4Zey2exqZQ, ldkOeC_ionczQdTTv7954g, ltEfVC92J-sBgpIGyXCoZw, ludl6VlDreQcK4ZgOxo5Sg, lyqGsGMchZCA8rc1uX1gsA, m07sy7eLtOjVdZ8oN9JKag, m1IVpXClMox1VGw5hO2LhQ, m2hYaPVP9DOWdHmKjsf84w, m7z-tX6XDZ27xGhGjnI21w, mKemb3MpSyUbsVUVSmI5tg, mKl0XBCWrNQEMgaHHmcNPg, mLJ3zQwiEzAIBaXb-7iXBw, mYJW4-M4tcRygSwdT3A6Ww, mcJ-A0OGmiWZGBbdWPMfrw, mcq1qdkjI7M-E1BXeFXstg, mg0xz_HZvoDtv2zWm1YHZg, mlXLPBayYqjbUMmtFrlw4g, mnoe2vwouRADn97dTDkw4A, moPeVo2BVmpUC9HqTiR5_A, mswloq-IjRr9yXLhBqBPAw, mu4XvWvJOb3XpG1C_CHCWA, nCRPCQE7E1PV83uQrIf7Cw, nEABfoTu6n6qvLRD2_mX1w, nF2TR0yfB2tx3VzAMvdlgQ, nNMUtoyV7_kuP2Bfg-dQZA, nOTl4aPC4tKHK35T3bNauQ, nUcQM8aXckWq0WraI2_3kA, nVaEKWMYWVGdJKsSx0Bb_Q, nefYrZL3vAdTd9SBPf8kPg, nmI6LoOi0zvHaH7rwISRCw, nxc9rWQqaKJ6Es7eC69Xdg, oDv9HzZUPw1b_uQW0vVCOA, oEqB6qGiV2K3q8g2A8rfYA, oInNoiunuDYWakwmvDiVVg, oMFeTt2Ry4m2ZIcgKKqx0A, oSkz7bxTAoFJxgDGP5wJHg, oaCl7cv19ZXOSK21Hhh9GA, obxrjNKD6Y1ic7iyXQU7ug, ocbXvj2OthwsLfQmS6APSg, ot3m-jIwFMFFCMG1bkLZgQ, owlUazXSDLaxlOV7z8181g, p8ECGW0TzHUk7xnlSSLaMQ, pBhaCEcdbdDv76kMwm8Nng, pOW7B6P5O2pnG0nOiIU3zQ, pTSu6KA_R5ziMoObS8gh0g, pUyhN_23nFMGLtNWRmdHoA, pZ6P_1V-bTSoYG1fg1TXzw, p_2daiuEk774FFHsKrCAlg, ppUS3G3bVNNqvjAKsi1BbA, pxzs-Dy2hXTis-PuNCV37Q, q3dIqTQTC_PFk95q_aEhHw, q7kb0GVCWOdORhOrRfkxbw, qGDIsH6b4GTo37krG8ZfzQ, qQxpmxc9wM8qzzKHtiUgJg, qXWXlA7x0n7jQS3pQtF3fQ, qd16czwFUVHICKF7A4qWsQ, qgVY8-S_GTC5G1OLoO5vwQ, qiknhA6ZDBHsAVW3qf5Jfw, qjYXOBnladFYhciGBSgAMw, qmYullp32aXFUr8WMVFrOA, qnoXQsDOTOFwJEYXSCnHEQ, qvPTw-ArHYI1n1n0cw3S7A, r365iah2e1Zm2ickWhHhCw, r79QdFrVcIwO4mxNNCjfEg, rAa-LxHwU8IP989kvMUJSA, rAfirsvz1RJM9RJDCXWsTw, rLl5jjjUK1crVfzbXoQrTA, rTIVsxvTEm5b94C2th5xQQ, rTydTPQKKXoysaVPC0CLxw, rXKjMIo0jVFmUfaqCqDs0Q, rYGi5DJ_54qeoWkkqB21jA, rqKCE0ASDODEd3IHlRI-OA, rrCvRjWHB0joS557FsWTog, s4BgZ9tRRPKxjUcOJcyomA, s5hemOR2IxcW-0MYA6hGug, sB4C4cd8k1eNmOyW9FwbQg, sD_uLJBHHozK-poMkY2l7w, sGI1svtG_retrGgnythe1g, sKiHN8YAavBvWC0DsT5UOw, sT1QAsSzEY7r45nCYxCtTA, sa5zd7bwBQzajQB48Y9SUw, sdiGHP8vk3QuMTYaVsmanw, sfKwAw0FD8KuWp4Hjv0cxQ, syA7uYoDjohc7gWBWaEZmw, t-iWNck4f56zcFBL9mJ5xA, tR2ogmPd9slOx4C4R0mTIw, tVR1J5N9NJLLl2j1eFFdFA, tekHDsd0fskYG3tqu4sHQw, tfcWQ_mKwgLkWu5pvpmsvg, tixImBjX6uTCBDYcg0JvuA, u7HOq6sTjBAV7uwQMG_mTQ, uBHRgjD2xy77JCVm7CwmOA, utS9ZAswZZx3QkegS_25SA, uuKOfhxXHZo8J-kLdQmNiA, uujkMa_5h488-Nh_AqE0bA, uz5-sq6wHrXScrIWb8r1Mg, v2JbRxUd18qL80IcYJOQtg, v9FT1O5vdOHlzOYpyc-Y2w, v9jUsPYosx6XeRNbNYFG6w, vAhWqV8pSv3crEdTiaqFVw, vCbYnQ0DdpHb-vGRZVMkxg, vKUlUXLVylwdttu7h1_Y5Q, vO1a12SLh9EgKLnEw9vkcg, vuH41CWzOYlwKmMmZnjV7g, w2PyT_BYJSHOlCyxh8LzzQ, w3dRT20CwQSNJ6GLGbM4SA, w5bwTIjGTebtlWEEAxfKhg, wB-R_Q9nC45hmHYxjjaLNw, wKLs8uoWxsdUpblwl-Ep5Q, wLc6l8v7O9hXjrDi3Q7tyw, wOpzh1RYcz-SLu55NEaaBg, wTVl4owjHa278i-fxmYcCw, wb_BRhsZh0b3s3yQA14jkw, wfK7oukwc90fVqFG2lw87w, wkSdo0bE6cXGuDR7VpZ9Ww, wmyoMUiW6YU9Audm0lACDg, wt5lSN_WOH27d98bVMTG5Q, x-W0OQiUdNLsoMhg6GfXSg, x5m1FHu8FN46h-m7ATluxQ, x9PSdA_zblUBYGjBVH6jJg, xDl9ZF3SckkZde_48W6WeA, xH63knKaVhclXU2gSP1q_A, xN-xoLhTHUFfTS_BMGG0xg, xNKjIktegMyHVSXFznJTRg, xRBlD49ojkbvoudG9vuqdw, xU4silHWZGOWz92hPIdFpQ, xVfK4hxPqr57SRleHT1U5w, xdW2zehpCYsdXCLnbYABeg, xhVlmdU1sPVH6GBJw6AZtQ, xotSWLK2liRhww_dHDa14Q, xrvyW1ruKS0uz9RtFewC0Q, xsZ4s7a4MaBIh48MdMkkPw, xzbEdogtuz-TS8PUcuzG6A, y975lu1oBjpW47TT1QdFHQ, yEmeRQb4WH6NN0IAaTX_lw, yH1rIEvxXPb_YCmRQVRdBw, yHykh6VFpsH_V62bRaq3FQ, yP9UmCxs1PSqljLfpR9R5g, yTR-R5nbztFomebI8_k-1g, yT_QCcnq-QGipWWuzIpvtw, yeBcdHTf7mYrCRsKiQNZ_A, ykN8B0KulIMwVcQ_zMW42g, yyDp7MZ2st7p0fOQuFYpcA, zpE_l-246q5K9rNvs5jc5Q, zrnrTczWS4XBGPvrVbhDJg, zvFeFboNMXqes2x5yqxpYw\n",
            "time: 309 ms (started: 2024-03-28 06:20:31 +00:00)\n"
          ]
        }
      ]
    }
  ]
}